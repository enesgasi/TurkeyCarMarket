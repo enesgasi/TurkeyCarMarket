{
 "cells": [
  {
   "cell_type": "code",
   "execution_count": 15,
   "metadata": {},
   "outputs": [],
   "source": [
    "from selenium import webdriver\n",
    "from bs4 import BeautifulSoup\n",
    "import pandas as pd\n",
    "\n",
    "options = webdriver.ChromeOptions()\n",
    "options.add_argument('--headless')\n",
    "options.add_argument('--no-sandbox')\n",
    "options.add_argument('--disable-dev-shm-usage')\n",
    "\n",
    "url = 'https://kampanya.peugeot.com.tr/fiyat-listesi/'\n",
    "\n",
    "wd = webdriver.Chrome('chromedriver',options=options)\n",
    "wd.get(url)\n",
    "html = wd.page_source\n",
    "df = pd.read_html(html)"
   ]
  },
  {
   "cell_type": "code",
   "execution_count": 14,
   "metadata": {},
   "outputs": [
    {
     "data": {
      "text/html": [
       "<div>\n",
       "<style scoped>\n",
       "    .dataframe tbody tr th:only-of-type {\n",
       "        vertical-align: middle;\n",
       "    }\n",
       "\n",
       "    .dataframe tbody tr th {\n",
       "        vertical-align: top;\n",
       "    }\n",
       "\n",
       "    .dataframe thead th {\n",
       "        text-align: right;\n",
       "    }\n",
       "</style>\n",
       "<table border=\"1\" class=\"dataframe\">\n",
       "  <thead>\n",
       "    <tr style=\"text-align: right;\">\n",
       "      <th></th>\n",
       "      <th>MODELLER</th>\n",
       "      <th>2023 Model Yılı Tavsiye Edilen Anahtar Teslim Fiyatı</th>\n",
       "    </tr>\n",
       "  </thead>\n",
       "  <tbody>\n",
       "    <tr>\n",
       "      <th>1</th>\n",
       "      <td>208 ACTIVE PRIME 1.2 PureTech 100hp EAT8</td>\n",
       "      <td>1.043.500 TL</td>\n",
       "    </tr>\n",
       "    <tr>\n",
       "      <th>2</th>\n",
       "      <td>208 ALLURE SELECTION 1.2 PureTech 130hp EAT8</td>\n",
       "      <td>1.145.500 TL</td>\n",
       "    </tr>\n",
       "    <tr>\n",
       "      <th>3</th>\n",
       "      <td>208 GT 1.2 PureTech 130hp EAT8</td>\n",
       "      <td>1.264.000 TL</td>\n",
       "    </tr>\n",
       "  </tbody>\n",
       "</table>\n",
       "</div>"
      ],
      "text/plain": [
       "                                       MODELLER  \\\n",
       "1      208 ACTIVE PRIME 1.2 PureTech 100hp EAT8   \n",
       "2  208 ALLURE SELECTION 1.2 PureTech 130hp EAT8   \n",
       "3                208 GT 1.2 PureTech 130hp EAT8   \n",
       "\n",
       "  2023 Model Yılı Tavsiye Edilen Anahtar Teslim Fiyatı  \n",
       "1                                       1.043.500 TL    \n",
       "2                                       1.145.500 TL    \n",
       "3                                       1.264.000 TL    "
      ]
     },
     "execution_count": 14,
     "metadata": {},
     "output_type": "execute_result"
    }
   ],
   "source": [
    "df[0].drop(0)\n"
   ]
  },
  {
   "cell_type": "code",
   "execution_count": 13,
   "metadata": {},
   "outputs": [
    {
     "data": {
      "text/html": [
       "<div>\n",
       "<style scoped>\n",
       "    .dataframe tbody tr th:only-of-type {\n",
       "        vertical-align: middle;\n",
       "    }\n",
       "\n",
       "    .dataframe tbody tr th {\n",
       "        vertical-align: top;\n",
       "    }\n",
       "\n",
       "    .dataframe thead th {\n",
       "        text-align: right;\n",
       "    }\n",
       "</style>\n",
       "<table border=\"1\" class=\"dataframe\">\n",
       "  <thead>\n",
       "    <tr style=\"text-align: right;\">\n",
       "      <th></th>\n",
       "      <th>MODELLER</th>\n",
       "      <th>2023 Model Yılı Tavsiye Edilen Anahtar Teslim Fiyatı</th>\n",
       "    </tr>\n",
       "  </thead>\n",
       "  <tbody>\n",
       "    <tr>\n",
       "      <th>1</th>\n",
       "      <td>308 ACTIVE PRIME 1.2 PureTech 130hp EAT8</td>\n",
       "      <td>1.436.500 TL</td>\n",
       "    </tr>\n",
       "    <tr>\n",
       "      <th>2</th>\n",
       "      <td>308 ALLURE 1.2 PureTech 130hp EAT8</td>\n",
       "      <td>1.533.000 TL</td>\n",
       "    </tr>\n",
       "    <tr>\n",
       "      <th>3</th>\n",
       "      <td>308 GT 1.2 PureTech 130hp EAT8</td>\n",
       "      <td>1.697.500 TL</td>\n",
       "    </tr>\n",
       "  </tbody>\n",
       "</table>\n",
       "</div>"
      ],
      "text/plain": [
       "                                   MODELLER  \\\n",
       "1  308 ACTIVE PRIME 1.2 PureTech 130hp EAT8   \n",
       "2        308 ALLURE 1.2 PureTech 130hp EAT8   \n",
       "3            308 GT 1.2 PureTech 130hp EAT8   \n",
       "\n",
       "  2023 Model Yılı Tavsiye Edilen Anahtar Teslim Fiyatı  \n",
       "1                                       1.436.500 TL    \n",
       "2                                       1.533.000 TL    \n",
       "3                                       1.697.500 TL    "
      ]
     },
     "execution_count": 13,
     "metadata": {},
     "output_type": "execute_result"
    }
   ],
   "source": [
    "df[2].drop(0)"
   ]
  },
  {
   "cell_type": "code",
   "execution_count": 12,
   "metadata": {},
   "outputs": [
    {
     "data": {
      "text/html": [
       "<div>\n",
       "<style scoped>\n",
       "    .dataframe tbody tr th:only-of-type {\n",
       "        vertical-align: middle;\n",
       "    }\n",
       "\n",
       "    .dataframe tbody tr th {\n",
       "        vertical-align: top;\n",
       "    }\n",
       "\n",
       "    .dataframe thead th {\n",
       "        text-align: right;\n",
       "    }\n",
       "</style>\n",
       "<table border=\"1\" class=\"dataframe\">\n",
       "  <thead>\n",
       "    <tr style=\"text-align: right;\">\n",
       "      <th></th>\n",
       "      <th>MODELLER</th>\n",
       "      <th>2023 Model Yılı Tavsiye Edilen Anahtar Teslim Fiyatı</th>\n",
       "    </tr>\n",
       "  </thead>\n",
       "  <tbody>\n",
       "    <tr>\n",
       "      <th>1</th>\n",
       "      <td>Yeni E-308 GT 115kW</td>\n",
       "      <td>1.565.000 TL</td>\n",
       "    </tr>\n",
       "  </tbody>\n",
       "</table>\n",
       "</div>"
      ],
      "text/plain": [
       "              MODELLER 2023 Model Yılı Tavsiye Edilen Anahtar Teslim Fiyatı\n",
       "1  Yeni E-308 GT 115kW                                       1.565.000 TL  "
      ]
     },
     "execution_count": 12,
     "metadata": {},
     "output_type": "execute_result"
    }
   ],
   "source": [
    "df[4].drop(0)"
   ]
  }
 ],
 "metadata": {
  "kernelspec": {
   "display_name": "base",
   "language": "python",
   "name": "python3"
  },
  "language_info": {
   "codemirror_mode": {
    "name": "ipython",
    "version": 3
   },
   "file_extension": ".py",
   "mimetype": "text/x-python",
   "name": "python",
   "nbconvert_exporter": "python",
   "pygments_lexer": "ipython3",
   "version": "3.9.7"
  }
 },
 "nbformat": 4,
 "nbformat_minor": 2
}
