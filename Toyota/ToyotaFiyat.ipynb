{
 "cells": [
  {
   "cell_type": "code",
   "execution_count": 2,
   "id": "c678ec36-5e12-4174-ba96-770c29f3d695",
   "metadata": {},
   "outputs": [],
   "source": [
    "from selenium import webdriver\n",
    "from bs4 import BeautifulSoup\n",
    "import pandas as pd"
   ]
  },
  {
   "cell_type": "code",
   "execution_count": 3,
   "id": "898c9c29-b1bd-49b3-a23f-2cdfd006cbbc",
   "metadata": {},
   "outputs": [],
   "source": [
    "options = webdriver.ChromeOptions()\n",
    "options.add_argument('--headless')\n",
    "options.add_argument('--no-sandbox')\n",
    "options.add_argument('--disable-dev-shm-usage')"
   ]
  },
  {
   "cell_type": "code",
   "execution_count": 4,
   "id": "5d9618f2-c515-46bd-a09c-7d5b1eb5d64f",
   "metadata": {},
   "outputs": [],
   "source": [
    "url = 'https://turkiye.toyota.com.tr/middle/fiyatl_aksesuar.html#'\n",
    "\n",
    "wd = webdriver.Chrome('chromedriver',options=options)\n",
    "wd.get(url)\n",
    "html = wd.page_source\n",
    "df = pd.read_html(html)"
   ]
  },
  {
   "cell_type": "markdown",
   "id": "b0a9f0cb-b6bc-4963-9115-8cc7aaf15bd4",
   "metadata": {
    "tags": []
   },
   "source": [
    "# DataFrame'lerin siteden çekilmesi"
   ]
  },
  {
   "cell_type": "code",
   "execution_count": 13,
   "id": "6744e0e9-43fe-4826-8ced-514cb08c7a9c",
   "metadata": {},
   "outputs": [],
   "source": [
    "corolla_df = df[0]\n",
    "corolla_hybrid_df = df[1]\n",
    "corolla_cross_df = df[2]\n",
    "toyota_CHR_hybrid_df = df[3]\n",
    "corolla_hatchback_hybrid_df = df[4]"
   ]
  },
  {
   "cell_type": "markdown",
   "id": "60548044-6fa3-4ed1-8931-8bd51c442fed",
   "metadata": {},
   "source": [
    "# Corolla Fiyat Listesi"
   ]
  },
  {
   "cell_type": "code",
   "execution_count": 6,
   "id": "6e2eedba-7c6f-47dc-b865-02af235bc638",
   "metadata": {},
   "outputs": [
    {
     "data": {
      "text/html": [
       "<div>\n",
       "<style scoped>\n",
       "    .dataframe tbody tr th:only-of-type {\n",
       "        vertical-align: middle;\n",
       "    }\n",
       "\n",
       "    .dataframe tbody tr th {\n",
       "        vertical-align: top;\n",
       "    }\n",
       "\n",
       "    .dataframe thead th {\n",
       "        text-align: right;\n",
       "    }\n",
       "</style>\n",
       "<table border=\"1\" class=\"dataframe\">\n",
       "  <thead>\n",
       "    <tr style=\"text-align: right;\">\n",
       "      <th></th>\n",
       "      <th>Versiyon</th>\n",
       "      <th>Tavsiye Edilen 2023 MY Liste Fiyatları (TL)</th>\n",
       "      <th>Tavsiye Edilen Kredi Kampanyalı 2023 MY Fiyatları** (TL)</th>\n",
       "      <th>Tavsiye Edilen Aralık Ayına Özel Sınırlı Sayıda Kampanyalı 2023 MY Fiyatları* (TL)</th>\n",
       "    </tr>\n",
       "  </thead>\n",
       "  <tbody>\n",
       "    <tr>\n",
       "      <th>0</th>\n",
       "      <td>1.5 Vision Multidrive S***</td>\n",
       "      <td>1.189.300</td>\n",
       "      <td>1.189.300</td>\n",
       "      <td>1.002.800</td>\n",
       "    </tr>\n",
       "    <tr>\n",
       "      <th>1</th>\n",
       "      <td>1.5 Vision Plus Multidrive S***</td>\n",
       "      <td>1.210.000</td>\n",
       "      <td>1.210.000</td>\n",
       "      <td>1.010.000</td>\n",
       "    </tr>\n",
       "    <tr>\n",
       "      <th>2</th>\n",
       "      <td>1.5 Dream Multidrive S</td>\n",
       "      <td>1.305.500</td>\n",
       "      <td>1.305.500</td>\n",
       "      <td>1.149.000</td>\n",
       "    </tr>\n",
       "    <tr>\n",
       "      <th>3</th>\n",
       "      <td>1.5 Dream X-Pack Multidrive S</td>\n",
       "      <td>1.385.050</td>\n",
       "      <td>1.385.050</td>\n",
       "      <td>1.228.550</td>\n",
       "    </tr>\n",
       "    <tr>\n",
       "      <th>4</th>\n",
       "      <td>1.5 Flame X-Pack Multidrive S</td>\n",
       "      <td>1.468.400</td>\n",
       "      <td>1.468.400</td>\n",
       "      <td>1.311.900</td>\n",
       "    </tr>\n",
       "    <tr>\n",
       "      <th>5</th>\n",
       "      <td>1.5 Passion X-Pack Multidrive S</td>\n",
       "      <td>1.586.500</td>\n",
       "      <td>1.586.500</td>\n",
       "      <td>1.430.000</td>\n",
       "    </tr>\n",
       "  </tbody>\n",
       "</table>\n",
       "</div>"
      ],
      "text/plain": [
       "                          Versiyon  \\\n",
       "0       1.5 Vision Multidrive S***   \n",
       "1  1.5 Vision Plus Multidrive S***   \n",
       "2           1.5 Dream Multidrive S   \n",
       "3    1.5 Dream X-Pack Multidrive S   \n",
       "4    1.5 Flame X-Pack Multidrive S   \n",
       "5  1.5 Passion X-Pack Multidrive S   \n",
       "\n",
       "  Tavsiye Edilen 2023 MY Liste Fiyatları (TL)  \\\n",
       "0                                   1.189.300   \n",
       "1                                   1.210.000   \n",
       "2                                   1.305.500   \n",
       "3                                   1.385.050   \n",
       "4                                   1.468.400   \n",
       "5                                   1.586.500   \n",
       "\n",
       "  Tavsiye Edilen Kredi Kampanyalı 2023 MY Fiyatları** (TL)  \\\n",
       "0                                          1.189.300         \n",
       "1                                          1.210.000         \n",
       "2                                          1.305.500         \n",
       "3                                          1.385.050         \n",
       "4                                          1.468.400         \n",
       "5                                          1.586.500         \n",
       "\n",
       "  Tavsiye Edilen Aralık Ayına Özel Sınırlı Sayıda Kampanyalı 2023 MY Fiyatları* (TL)  \n",
       "0                                          1.002.800                                  \n",
       "1                                          1.010.000                                  \n",
       "2                                          1.149.000                                  \n",
       "3                                          1.228.550                                  \n",
       "4                                          1.311.900                                  \n",
       "5                                          1.430.000                                  "
      ]
     },
     "execution_count": 6,
     "metadata": {},
     "output_type": "execute_result"
    }
   ],
   "source": [
    "corolla_df = df[0]\n",
    "corolla_df"
   ]
  },
  {
   "cell_type": "markdown",
   "id": "8a2c0d18-2b6f-40bd-989b-c54014fefd1b",
   "metadata": {},
   "source": [
    "# Corolla Hybrid Fiyat Listesi"
   ]
  },
  {
   "cell_type": "code",
   "execution_count": 7,
   "id": "038b5829-f296-475f-817f-cc88b6aa532d",
   "metadata": {},
   "outputs": [
    {
     "data": {
      "text/html": [
       "<div>\n",
       "<style scoped>\n",
       "    .dataframe tbody tr th:only-of-type {\n",
       "        vertical-align: middle;\n",
       "    }\n",
       "\n",
       "    .dataframe tbody tr th {\n",
       "        vertical-align: top;\n",
       "    }\n",
       "\n",
       "    .dataframe thead th {\n",
       "        text-align: right;\n",
       "    }\n",
       "</style>\n",
       "<table border=\"1\" class=\"dataframe\">\n",
       "  <thead>\n",
       "    <tr style=\"text-align: right;\">\n",
       "      <th></th>\n",
       "      <th>Versiyon</th>\n",
       "      <th>Tavsiye Edilen Hybrid'e Özel ÖTV Oranı ile 2023 MY Fiyatları (TL)</th>\n",
       "    </tr>\n",
       "  </thead>\n",
       "  <tbody>\n",
       "    <tr>\n",
       "      <th>0</th>\n",
       "      <td>1.8 Hybrid Dream e-CVT</td>\n",
       "      <td>1.504.400</td>\n",
       "    </tr>\n",
       "    <tr>\n",
       "      <th>1</th>\n",
       "      <td>1.8 Hybrid Dream-X-Pack e-CVT</td>\n",
       "      <td>1.559.300</td>\n",
       "    </tr>\n",
       "    <tr>\n",
       "      <th>2</th>\n",
       "      <td>1.8 Hybrid Flame X-Pack e-CVT</td>\n",
       "      <td>1.599.900</td>\n",
       "    </tr>\n",
       "    <tr>\n",
       "      <th>3</th>\n",
       "      <td>1.8 Hybrid Passion X-Pack e-CVT</td>\n",
       "      <td>1.718.050</td>\n",
       "    </tr>\n",
       "  </tbody>\n",
       "</table>\n",
       "</div>"
      ],
      "text/plain": [
       "                          Versiyon  \\\n",
       "0           1.8 Hybrid Dream e-CVT   \n",
       "1    1.8 Hybrid Dream-X-Pack e-CVT   \n",
       "2    1.8 Hybrid Flame X-Pack e-CVT   \n",
       "3  1.8 Hybrid Passion X-Pack e-CVT   \n",
       "\n",
       "  Tavsiye Edilen Hybrid'e Özel ÖTV Oranı ile 2023 MY Fiyatları (TL)  \n",
       "0                                          1.504.400                 \n",
       "1                                          1.559.300                 \n",
       "2                                          1.599.900                 \n",
       "3                                          1.718.050                 "
      ]
     },
     "execution_count": 7,
     "metadata": {},
     "output_type": "execute_result"
    }
   ],
   "source": [
    "corolla_hybrid_df"
   ]
  },
  {
   "cell_type": "markdown",
   "id": "bbcec7cb-57b5-4792-ad29-7011934cca5f",
   "metadata": {},
   "source": [
    "# Corolla Cross Hybrid Fiyat Listesi\n"
   ]
  },
  {
   "cell_type": "code",
   "execution_count": 8,
   "id": "b917c0cc-8cd4-4723-b9ab-182457885d6e",
   "metadata": {},
   "outputs": [
    {
     "data": {
      "text/html": [
       "<div>\n",
       "<style scoped>\n",
       "    .dataframe tbody tr th:only-of-type {\n",
       "        vertical-align: middle;\n",
       "    }\n",
       "\n",
       "    .dataframe tbody tr th {\n",
       "        vertical-align: top;\n",
       "    }\n",
       "\n",
       "    .dataframe thead th {\n",
       "        text-align: right;\n",
       "    }\n",
       "</style>\n",
       "<table border=\"1\" class=\"dataframe\">\n",
       "  <thead>\n",
       "    <tr style=\"text-align: right;\">\n",
       "      <th></th>\n",
       "      <th>Versiyon</th>\n",
       "      <th>Tavsiye Edilen Hybrid'e Özel ÖTV Oranı ile 2023 MY Fiyatları (TL)</th>\n",
       "      <th>Tavsiye Edilen Kredi Kampanyalı 2023 MY Fiyatları** (TL)</th>\n",
       "      <th>Tavsiye Edilen Aralık Ayına Özel Sınırlı Sayıda Kampanyalı 2023 MY Fiyatları* (TL)</th>\n",
       "    </tr>\n",
       "  </thead>\n",
       "  <tbody>\n",
       "    <tr>\n",
       "      <th>0</th>\n",
       "      <td>1.8 Hybrid Flame e-CVT</td>\n",
       "      <td>1.708.300</td>\n",
       "      <td>1.708.300</td>\n",
       "      <td>1.545.000</td>\n",
       "    </tr>\n",
       "    <tr>\n",
       "      <th>1</th>\n",
       "      <td>1.8 Hybrid Flame X-Pack e-CVT</td>\n",
       "      <td>1.757.400</td>\n",
       "      <td>1.757.400</td>\n",
       "      <td>1.590.000</td>\n",
       "    </tr>\n",
       "    <tr>\n",
       "      <th>2</th>\n",
       "      <td>1.8 Hybrid Passion e-CVT</td>\n",
       "      <td>1.878.200</td>\n",
       "      <td>1.878.200</td>\n",
       "      <td>1.700.000</td>\n",
       "    </tr>\n",
       "    <tr>\n",
       "      <th>3</th>\n",
       "      <td>1.8 Hybrid Passion X-Pack e-CVT</td>\n",
       "      <td>2.010.800</td>\n",
       "      <td>2.010.800</td>\n",
       "      <td>1.810.800</td>\n",
       "    </tr>\n",
       "    <tr>\n",
       "      <th>4</th>\n",
       "      <td>1.8 Hybrid Passion X-Pack Siyah Tavan e-CVT</td>\n",
       "      <td>2.038.600</td>\n",
       "      <td>2.038.600</td>\n",
       "      <td>1.838.600</td>\n",
       "    </tr>\n",
       "  </tbody>\n",
       "</table>\n",
       "</div>"
      ],
      "text/plain": [
       "                                      Versiyon  \\\n",
       "0                       1.8 Hybrid Flame e-CVT   \n",
       "1                1.8 Hybrid Flame X-Pack e-CVT   \n",
       "2                     1.8 Hybrid Passion e-CVT   \n",
       "3              1.8 Hybrid Passion X-Pack e-CVT   \n",
       "4  1.8 Hybrid Passion X-Pack Siyah Tavan e-CVT   \n",
       "\n",
       "  Tavsiye Edilen Hybrid'e Özel ÖTV Oranı ile 2023 MY Fiyatları (TL)  \\\n",
       "0                                          1.708.300                  \n",
       "1                                          1.757.400                  \n",
       "2                                          1.878.200                  \n",
       "3                                          2.010.800                  \n",
       "4                                          2.038.600                  \n",
       "\n",
       "  Tavsiye Edilen Kredi Kampanyalı 2023 MY Fiyatları** (TL)  \\\n",
       "0                                          1.708.300         \n",
       "1                                          1.757.400         \n",
       "2                                          1.878.200         \n",
       "3                                          2.010.800         \n",
       "4                                          2.038.600         \n",
       "\n",
       "  Tavsiye Edilen Aralık Ayına Özel Sınırlı Sayıda Kampanyalı 2023 MY Fiyatları* (TL)  \n",
       "0                                          1.545.000                                  \n",
       "1                                          1.590.000                                  \n",
       "2                                          1.700.000                                  \n",
       "3                                          1.810.800                                  \n",
       "4                                          1.838.600                                  "
      ]
     },
     "execution_count": 8,
     "metadata": {},
     "output_type": "execute_result"
    }
   ],
   "source": [
    "corolla_cross_df"
   ]
  },
  {
   "cell_type": "markdown",
   "id": "6dcaf7f0-2950-48d9-b8e9-9b609cb04ad0",
   "metadata": {},
   "source": [
    "# Yeni Toyota C-HR Hybrid Fiyat Listesi"
   ]
  },
  {
   "cell_type": "code",
   "execution_count": 9,
   "id": "018695df-1150-47aa-90b5-af80203383fd",
   "metadata": {},
   "outputs": [
    {
     "data": {
      "text/html": [
       "<div>\n",
       "<style scoped>\n",
       "    .dataframe tbody tr th:only-of-type {\n",
       "        vertical-align: middle;\n",
       "    }\n",
       "\n",
       "    .dataframe tbody tr th {\n",
       "        vertical-align: top;\n",
       "    }\n",
       "\n",
       "    .dataframe thead th {\n",
       "        text-align: right;\n",
       "    }\n",
       "</style>\n",
       "<table border=\"1\" class=\"dataframe\">\n",
       "  <thead>\n",
       "    <tr style=\"text-align: right;\">\n",
       "      <th></th>\n",
       "      <th>Versiyon</th>\n",
       "      <th>Tavsiye Edilen Hybrid'e Özel ÖTV Oranı ile 2023 MY Fiyatları (TL)</th>\n",
       "      <th>Lansmana Özel Tavsiye Edilen Kredi Kampanyalı 2023 MY Fiyatları** (TL)</th>\n",
       "      <th>Lansmana Özel Tavsiye Edilen Kampanyalı 2023 MY Fiyatları* (TL)</th>\n",
       "    </tr>\n",
       "  </thead>\n",
       "  <tbody>\n",
       "    <tr>\n",
       "      <th>0</th>\n",
       "      <td>1.8 Hybrid Passion e-CVT</td>\n",
       "      <td>1.800.000</td>\n",
       "      <td>1.550.000</td>\n",
       "      <td>1.550.000</td>\n",
       "    </tr>\n",
       "    <tr>\n",
       "      <th>1</th>\n",
       "      <td>1.8 Hybrid Passion X-Sport e-CVT</td>\n",
       "      <td>1.980.000</td>\n",
       "      <td>1.730.000</td>\n",
       "      <td>1.730.000</td>\n",
       "    </tr>\n",
       "    <tr>\n",
       "      <th>2</th>\n",
       "      <td>1.8 Hybrid Passion X-Style e-CVT</td>\n",
       "      <td>2.080.000</td>\n",
       "      <td>1.830.000</td>\n",
       "      <td>1.830.000</td>\n",
       "    </tr>\n",
       "  </tbody>\n",
       "</table>\n",
       "</div>"
      ],
      "text/plain": [
       "                           Versiyon  \\\n",
       "0          1.8 Hybrid Passion e-CVT   \n",
       "1  1.8 Hybrid Passion X-Sport e-CVT   \n",
       "2  1.8 Hybrid Passion X-Style e-CVT   \n",
       "\n",
       "  Tavsiye Edilen Hybrid'e Özel ÖTV Oranı ile 2023 MY Fiyatları (TL)  \\\n",
       "0                                          1.800.000                  \n",
       "1                                          1.980.000                  \n",
       "2                                          2.080.000                  \n",
       "\n",
       "  Lansmana Özel Tavsiye Edilen Kredi Kampanyalı 2023 MY Fiyatları** (TL)  \\\n",
       "0                                          1.550.000                       \n",
       "1                                          1.730.000                       \n",
       "2                                          1.830.000                       \n",
       "\n",
       "  Lansmana Özel Tavsiye Edilen Kampanyalı 2023 MY Fiyatları* (TL)  \n",
       "0                                          1.550.000               \n",
       "1                                          1.730.000               \n",
       "2                                          1.830.000               "
      ]
     },
     "execution_count": 9,
     "metadata": {},
     "output_type": "execute_result"
    }
   ],
   "source": [
    "toyota_CHR_hybrid_df"
   ]
  },
  {
   "cell_type": "markdown",
   "id": "c8e2526f-1558-4aac-b9c5-942c02691f83",
   "metadata": {},
   "source": [
    "# Corolla Hatchback Hybrid Fiyat Listesi"
   ]
  },
  {
   "cell_type": "code",
   "execution_count": 10,
   "id": "6d4e5086-8b00-4517-8b99-53c28755320a",
   "metadata": {},
   "outputs": [
    {
     "data": {
      "text/html": [
       "<div>\n",
       "<style scoped>\n",
       "    .dataframe tbody tr th:only-of-type {\n",
       "        vertical-align: middle;\n",
       "    }\n",
       "\n",
       "    .dataframe tbody tr th {\n",
       "        vertical-align: top;\n",
       "    }\n",
       "\n",
       "    .dataframe thead th {\n",
       "        text-align: right;\n",
       "    }\n",
       "</style>\n",
       "<table border=\"1\" class=\"dataframe\">\n",
       "  <thead>\n",
       "    <tr style=\"text-align: right;\">\n",
       "      <th></th>\n",
       "      <th>Versiyon</th>\n",
       "      <th>Tavsiye Edilen Hybrid'e Özel ÖTV Oranı ile 2023 MY Fiyatları (TL)</th>\n",
       "      <th>Tavsiye Edilen Kredi Kampanyalı 2023 MY Fiyatları** (TL)</th>\n",
       "      <th>Tavsiye Edilen Aralık Ayına Özel Sınırlı Sayıda Kampanyalı 2023 MY Fiyatları* (TL)</th>\n",
       "    </tr>\n",
       "  </thead>\n",
       "  <tbody>\n",
       "    <tr>\n",
       "      <th>0</th>\n",
       "      <td>Hybrid Flame e-CVT</td>\n",
       "      <td>1.466.500</td>\n",
       "      <td>1.466.500</td>\n",
       "      <td>1.316.500</td>\n",
       "    </tr>\n",
       "    <tr>\n",
       "      <th>1</th>\n",
       "      <td>Hybrid Passion X-Pack e-CVT</td>\n",
       "      <td>1.626.500</td>\n",
       "      <td>1.626.500</td>\n",
       "      <td>1.466.500</td>\n",
       "    </tr>\n",
       "  </tbody>\n",
       "</table>\n",
       "</div>"
      ],
      "text/plain": [
       "                      Versiyon  \\\n",
       "0           Hybrid Flame e-CVT   \n",
       "1  Hybrid Passion X-Pack e-CVT   \n",
       "\n",
       "  Tavsiye Edilen Hybrid'e Özel ÖTV Oranı ile 2023 MY Fiyatları (TL)  \\\n",
       "0                                          1.466.500                  \n",
       "1                                          1.626.500                  \n",
       "\n",
       "  Tavsiye Edilen Kredi Kampanyalı 2023 MY Fiyatları** (TL)  \\\n",
       "0                                          1.466.500         \n",
       "1                                          1.626.500         \n",
       "\n",
       "  Tavsiye Edilen Aralık Ayına Özel Sınırlı Sayıda Kampanyalı 2023 MY Fiyatları* (TL)  \n",
       "0                                          1.316.500                                  \n",
       "1                                          1.466.500                                  "
      ]
     },
     "execution_count": 10,
     "metadata": {},
     "output_type": "execute_result"
    }
   ],
   "source": [
    "corolla_hatchback_hybrid "
   ]
  },
  {
   "cell_type": "markdown",
   "id": "b160b25f-2108-44ac-a5b9-7001cb58f102",
   "metadata": {},
   "source": [
    "## DataFrame'lerin Excel'e aktarılması"
   ]
  },
  {
   "cell_type": "code",
   "execution_count": 14,
   "id": "47b09938-48c2-4bca-bedb-c214eb34accc",
   "metadata": {},
   "outputs": [],
   "source": [
    "with pd.ExcelWriter('ToyotaOutput.xlsx') as excel_writer:\n",
    "    corolla_df.to_excel(excel_writer, sheet_name='Toyota Corolla', index=False)\n",
    "    corolla_hybrid_df.to_excel(excel_writer, sheet_name='Corolla Hybrid', index=False)\n",
    "    corolla_cross_df.to_excel(excel_writer, sheet_name='Corolla Cross', index=False)\n",
    "    toyota_CHR_hybrid_df.to_excel(excel_writer, sheet_name='Corolla CHR Hybrid', index=False)\n",
    "    corolla_hatchback_hybrid_df.to_excel(excel_writer, sheet_name='Corolla Hatchback Hybrid', index=False)\n",
    "    "
   ]
  },
  {
   "cell_type": "code",
   "execution_count": null,
   "id": "be3c876e-cd2f-4c5b-b857-7a1789e4dabd",
   "metadata": {},
   "outputs": [],
   "source": []
  }
 ],
 "metadata": {
  "kernelspec": {
   "display_name": "Python 3 (ipykernel)",
   "language": "python",
   "name": "python3"
  },
  "language_info": {
   "codemirror_mode": {
    "name": "ipython",
    "version": 3
   },
   "file_extension": ".py",
   "mimetype": "text/x-python",
   "name": "python",
   "nbconvert_exporter": "python",
   "pygments_lexer": "ipython3",
   "version": "3.9.7"
  }
 },
 "nbformat": 4,
 "nbformat_minor": 5
}
