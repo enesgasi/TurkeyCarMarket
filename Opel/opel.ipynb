{
 "cells": [
  {
   "cell_type": "code",
   "execution_count": 35,
   "metadata": {},
   "outputs": [],
   "source": [
    "from selenium import webdriver\n",
    "from bs4 import BeautifulSoup\n",
    "import pandas as pd\n",
    "import numpy as np\n",
    "\n",
    "options = webdriver.ChromeOptions()\n",
    "options.add_argument('--headless')\n",
    "options.add_argument('--no-sandbox')\n",
    "options.add_argument('--disable-dev-shm-usage')"
   ]
  },
  {
   "cell_type": "markdown",
   "metadata": {},
   "source": [
    "## CORSA"
   ]
  },
  {
   "cell_type": "code",
   "execution_count": 24,
   "metadata": {},
   "outputs": [
    {
     "data": {
      "text/html": [
       "<div>\n",
       "<style scoped>\n",
       "    .dataframe tbody tr th:only-of-type {\n",
       "        vertical-align: middle;\n",
       "    }\n",
       "\n",
       "    .dataframe tbody tr th {\n",
       "        vertical-align: top;\n",
       "    }\n",
       "\n",
       "    .dataframe thead th {\n",
       "        text-align: right;\n",
       "    }\n",
       "</style>\n",
       "<table border=\"1\" class=\"dataframe\">\n",
       "  <thead>\n",
       "    <tr style=\"text-align: right;\">\n",
       "      <th></th>\n",
       "      <th>Motor / Şanzıman</th>\n",
       "      <th>Donanım</th>\n",
       "      <th>Tavsiye Edilen Anahtar Teslim Fiyatı</th>\n",
       "      <th>Kampanyalı Fiyat</th>\n",
       "    </tr>\n",
       "  </thead>\n",
       "  <tbody>\n",
       "    <tr>\n",
       "      <th>0</th>\n",
       "      <td>1.2 75 HP Benzin  MT5</td>\n",
       "      <td>Edition</td>\n",
       "      <td>889.900 TL</td>\n",
       "      <td>NaN</td>\n",
       "    </tr>\n",
       "    <tr>\n",
       "      <th>1</th>\n",
       "      <td>1.2 100 HP Benzin  AT8</td>\n",
       "      <td>Edition  GS</td>\n",
       "      <td>1.028.900 TL  1.079.900 TL</td>\n",
       "      <td>NaN</td>\n",
       "    </tr>\n",
       "    <tr>\n",
       "      <th>2</th>\n",
       "      <td>1.2 130 HP Benzin  AT8</td>\n",
       "      <td>Ultimate</td>\n",
       "      <td>1.203.900 TL</td>\n",
       "      <td>NaN</td>\n",
       "    </tr>\n",
       "  </tbody>\n",
       "</table>\n",
       "</div>"
      ],
      "text/plain": [
       "         Motor / Şanzıman      Donanım Tavsiye Edilen Anahtar Teslim Fiyatı  \\\n",
       "0   1.2 75 HP Benzin  MT5      Edition                           889.900 TL   \n",
       "1  1.2 100 HP Benzin  AT8  Edition  GS           1.028.900 TL  1.079.900 TL   \n",
       "2  1.2 130 HP Benzin  AT8     Ultimate                         1.203.900 TL   \n",
       "\n",
       "   Kampanyalı Fiyat  \n",
       "0               NaN  \n",
       "1               NaN  \n",
       "2               NaN  "
      ]
     },
     "execution_count": 24,
     "metadata": {},
     "output_type": "execute_result"
    }
   ],
   "source": [
    "url = 'https://fiyatlisteleri.opel.com.tr/arac/corsa?'\n",
    "\n",
    "wd = webdriver.Chrome('chromedriver',options=options)\n",
    "wd.get(url)\n",
    "html = wd.page_source\n",
    "df = pd.read_html(html)\n",
    "\n",
    "df[0]"
   ]
  },
  {
   "cell_type": "markdown",
   "metadata": {},
   "source": [
    "## ASTRA"
   ]
  },
  {
   "cell_type": "code",
   "execution_count": 33,
   "metadata": {},
   "outputs": [
    {
     "data": {
      "text/html": [
       "<div>\n",
       "<style scoped>\n",
       "    .dataframe tbody tr th:only-of-type {\n",
       "        vertical-align: middle;\n",
       "    }\n",
       "\n",
       "    .dataframe tbody tr th {\n",
       "        vertical-align: top;\n",
       "    }\n",
       "\n",
       "    .dataframe thead th {\n",
       "        text-align: right;\n",
       "    }\n",
       "</style>\n",
       "<table border=\"1\" class=\"dataframe\">\n",
       "  <thead>\n",
       "    <tr style=\"text-align: right;\">\n",
       "      <th></th>\n",
       "      <th>Motor / Şanzıman</th>\n",
       "      <th>Donanım</th>\n",
       "      <th>Tavsiye Edilen Anahtar Teslim Fiyatı</th>\n",
       "      <th>Kampanyalı Fiyat</th>\n",
       "    </tr>\n",
       "  </thead>\n",
       "  <tbody>\n",
       "    <tr>\n",
       "      <th>0</th>\n",
       "      <td>1.2 130 HP Benzin  MT6</td>\n",
       "      <td>Edition</td>\n",
       "      <td>1.252.900 TL</td>\n",
       "      <td>NaN</td>\n",
       "    </tr>\n",
       "    <tr>\n",
       "      <th>1</th>\n",
       "      <td>1.2 130 HP Benzin  AT8</td>\n",
       "      <td>Edition  Elegance  GS</td>\n",
       "      <td>1.411.900 TL  1.557.900 TL  1.691.900 TL</td>\n",
       "      <td>NaN</td>\n",
       "    </tr>\n",
       "  </tbody>\n",
       "</table>\n",
       "</div>"
      ],
      "text/plain": [
       "         Motor / Şanzıman                Donanım  \\\n",
       "0  1.2 130 HP Benzin  MT6                Edition   \n",
       "1  1.2 130 HP Benzin  AT8  Edition  Elegance  GS   \n",
       "\n",
       "       Tavsiye Edilen Anahtar Teslim Fiyatı  Kampanyalı Fiyat  \n",
       "0                              1.252.900 TL               NaN  \n",
       "1  1.411.900 TL  1.557.900 TL  1.691.900 TL               NaN  "
      ]
     },
     "execution_count": 33,
     "metadata": {},
     "output_type": "execute_result"
    }
   ],
   "source": [
    "url = 'https://fiyatlisteleri.opel.com.tr/arac/astra?'\n",
    "\n",
    "wd = webdriver.Chrome('chromedriver',options=options)\n",
    "wd.get(url)\n",
    "html = wd.page_source\n",
    "df = pd.read_html(html)\n",
    "\n",
    "tablo = df[0]\n",
    "tablo"
   ]
  },
  {
   "cell_type": "code",
   "execution_count": 39,
   "metadata": {},
   "outputs": [
    {
     "data": {
      "text/html": [
       "<div>\n",
       "<style scoped>\n",
       "    .dataframe tbody tr th:only-of-type {\n",
       "        vertical-align: middle;\n",
       "    }\n",
       "\n",
       "    .dataframe tbody tr th {\n",
       "        vertical-align: top;\n",
       "    }\n",
       "\n",
       "    .dataframe thead th {\n",
       "        text-align: right;\n",
       "    }\n",
       "</style>\n",
       "<table border=\"1\" class=\"dataframe\">\n",
       "  <thead>\n",
       "    <tr style=\"text-align: right;\">\n",
       "      <th></th>\n",
       "      <th>Motor / Şanzıman</th>\n",
       "      <th>Donanım</th>\n",
       "      <th>Tavsiye Edilen Anahtar Teslim Fiyatı</th>\n",
       "      <th>Kampanyalı Fiyat</th>\n",
       "    </tr>\n",
       "  </thead>\n",
       "  <tbody>\n",
       "    <tr>\n",
       "      <th>0</th>\n",
       "      <td>1.2 130 HP Benzin  MT6</td>\n",
       "      <td>Edition</td>\n",
       "      <td>1.252.900 TL</td>\n",
       "      <td>NaN</td>\n",
       "    </tr>\n",
       "    <tr>\n",
       "      <th>1</th>\n",
       "      <td>1.2 130 HP Benzin  AT8</td>\n",
       "      <td>Edition  Elegance  GS</td>\n",
       "      <td>1.411.900 TL  1.557.900 TL  1.691.900 TL</td>\n",
       "      <td>NaN</td>\n",
       "    </tr>\n",
       "  </tbody>\n",
       "</table>\n",
       "</div>"
      ],
      "text/plain": [
       "         Motor / Şanzıman                Donanım  \\\n",
       "0  1.2 130 HP Benzin  MT6                Edition   \n",
       "1  1.2 130 HP Benzin  AT8  Edition  Elegance  GS   \n",
       "\n",
       "       Tavsiye Edilen Anahtar Teslim Fiyatı  Kampanyalı Fiyat  \n",
       "0                              1.252.900 TL               NaN  \n",
       "1  1.411.900 TL  1.557.900 TL  1.691.900 TL               NaN  "
      ]
     },
     "execution_count": 39,
     "metadata": {},
     "output_type": "execute_result"
    }
   ],
   "source": [
    "tablo.explode('Tavsiye Edilen Anahtar Teslim Fiyatı')\n",
    "tablo"
   ]
  }
 ],
 "metadata": {
  "kernelspec": {
   "display_name": "base",
   "language": "python",
   "name": "python3"
  },
  "language_info": {
   "codemirror_mode": {
    "name": "ipython",
    "version": 3
   },
   "file_extension": ".py",
   "mimetype": "text/x-python",
   "name": "python",
   "nbconvert_exporter": "python",
   "pygments_lexer": "ipython3",
   "version": "3.9.7"
  }
 },
 "nbformat": 4,
 "nbformat_minor": 2
}
